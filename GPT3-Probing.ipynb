{
 "cells": [
  {
   "cell_type": "markdown",
   "id": "d0c697ed",
   "metadata": {},
   "source": [
    "# Prompt Engineering and Probing with GPT3\n",
    "\n",
    "With GPT3, we can do a variety of tasks without the need of training a model. All we need to do is convert the task into an text generation task that follows a set of instructions called *prompts*. As an example, the task of sentiment classification can be designed as:\n",
    "\n",
    "```\n",
    "Decide whether a Tweet's sentiment is positive, neutral, or negative.\n",
    "\n",
    "Tweet: I loved the new Batman movie!\n",
    "Sentiment:\n",
    "```\n",
    "\n",
    "The GPT3 model then completes the text above with the response **Positive**. The above prompt is an example of zero-shot learning, meaning, we are not providing any signal/direction that can guide the decision and merely rely on GPT's pretraining objective:\n",
    "\n",
    "```\n",
    "Decide whether a Tweet's sentiment is positive, neutral, or negative.\n",
    "\n",
    "Tweet: I really liked the Spiderman movie!\n",
    "Sentiment: Positive\n",
    "\n",
    "Tweet: I loved the new Batman movie!\n",
    "Sentiment:\n",
    "```\n",
    "\n",
    "Now this is an example of 1-shot learning, i.e., you are providing an labeled example of how the output should look and then ask GPT to complete the next example. When you use more than 1 labeled example, it is known as few-shot learning.  Generally, if you provide more examples in the prompt, it will make better predictions.\n",
    "\n",
    "## Getting Started\n",
    "\n",
    "\n",
    "In this assignment, we will first need to register for an account at: https://platform.openai.com/ As a free trial, you will get $18 credits to make api calls to the GPT server. Once registered, you should go through the docs here: https://platform.openai.com/docs/guides/completion/prompt-design to get more info on the capabilities of the model. \n",
    "\n",
    "You can either do this homework using the free to use playground/chat interface of openai using the following links:\n",
    "\n",
    "- [https://platform.openai.com/playground](https://platform.openai.com/playground)\n",
    "- [https://chat.openai.com](https://chat.openai.com)\n",
    "\n",
    "But if you want to use the API to make automatic calls to open ai, we will need to follow the steps below:"
   ]
  },
  {
   "cell_type": "code",
   "execution_count": 1,
   "id": "806993a1",
   "metadata": {},
   "outputs": [
    {
     "name": "stdout",
     "output_type": "stream",
     "text": [
      "Collecting openai\n",
      "  Downloading openai-1.3.6-py3-none-any.whl (220 kB)\n",
      "     -------------------------------------- 220.9/220.9 kB 2.2 MB/s eta 0:00:00\n",
      "Collecting httpx<1,>=0.23.0\n",
      "  Downloading httpx-0.25.2-py3-none-any.whl (74 kB)\n",
      "     ---------------------------------------- 75.0/75.0 kB 2.1 MB/s eta 0:00:00\n",
      "Requirement already satisfied: sniffio in c:\\anaconda\\lib\\site-packages (from openai) (1.2.0)\n",
      "Requirement already satisfied: anyio<4,>=3.5.0 in c:\\anaconda\\lib\\site-packages (from openai) (3.5.0)\n",
      "Requirement already satisfied: tqdm>4 in c:\\anaconda\\lib\\site-packages (from openai) (4.64.1)\n",
      "Requirement already satisfied: pydantic<3,>=1.9.0 in c:\\anaconda\\lib\\site-packages (from openai) (1.10.13)\n",
      "Collecting distro<2,>=1.7.0\n",
      "  Downloading distro-1.8.0-py3-none-any.whl (20 kB)\n",
      "Collecting typing-extensions<5,>=4.5\n",
      "  Downloading typing_extensions-4.8.0-py3-none-any.whl (31 kB)\n",
      "Requirement already satisfied: idna>=2.8 in c:\\anaconda\\lib\\site-packages (from anyio<4,>=3.5.0->openai) (3.4)\n",
      "Requirement already satisfied: certifi in c:\\anaconda\\lib\\site-packages (from httpx<1,>=0.23.0->openai) (2022.12.7)\n",
      "Collecting httpcore==1.*\n",
      "  Downloading httpcore-1.0.2-py3-none-any.whl (76 kB)\n",
      "     ---------------------------------------- 76.9/76.9 kB 2.1 MB/s eta 0:00:00\n",
      "Collecting h11<0.15,>=0.13\n",
      "  Downloading h11-0.14.0-py3-none-any.whl (58 kB)\n",
      "     ---------------------------------------- 58.3/58.3 kB 3.0 MB/s eta 0:00:00\n",
      "Requirement already satisfied: colorama in c:\\anaconda\\lib\\site-packages (from tqdm>4->openai) (0.4.6)\n",
      "Installing collected packages: typing-extensions, h11, distro, httpcore, httpx, openai\n",
      "  Attempting uninstall: typing-extensions\n",
      "    Found existing installation: typing_extensions 4.4.0\n",
      "    Uninstalling typing_extensions-4.4.0:\n",
      "      Successfully uninstalled typing_extensions-4.4.0\n",
      "Successfully installed distro-1.8.0 h11-0.14.0 httpcore-1.0.2 httpx-0.25.2 openai-1.3.6 typing-extensions-4.8.0\n",
      "Note: you may need to restart the kernel to use updated packages.\n"
     ]
    }
   ],
   "source": [
    "pip install openai"
   ]
  },
  {
   "cell_type": "code",
   "execution_count": 1,
   "id": "44e18f3a",
   "metadata": {},
   "outputs": [],
   "source": [
    "import openai"
   ]
  },
  {
   "cell_type": "code",
   "execution_count": 2,
   "id": "f88e0fce-4d55-4fd3-9ea3-eeadefb11dd1",
   "metadata": {},
   "outputs": [],
   "source": [
    "import os\n",
    "\n",
    "## Find the API key by clicking on your profile in the openai page. Add the key to the environment as following:\n",
    "## Make sure to delete this cell afterwords\n",
    "\n",
    "os.environ['OPENAI_API_KEY'] = 'sk-...'"
   ]
  },
  {
   "cell_type": "code",
   "execution_count": 10,
   "id": "cf90729c",
   "metadata": {},
   "outputs": [],
   "source": [
    "from openai import OpenAI\n",
    "client = OpenAI()\n",
    "\n",
    "openai.api_key = os.getenv('OPENAI_API_KEY')"
   ]
  },
  {
   "cell_type": "markdown",
   "id": "e7fc7bd8-b70f-49d4-90ab-79b9eb63121b",
   "metadata": {},
   "source": [
    "## Using text completion"
   ]
  },
  {
   "cell_type": "code",
   "execution_count": null,
   "id": "09b118c4",
   "metadata": {},
   "outputs": [],
   "source": []
  },
  {
   "cell_type": "code",
   "execution_count": 30,
   "id": "bce117de",
   "metadata": {},
   "outputs": [],
   "source": [
    "response = client.completions.create(\n",
    "  model=\"text-davinci-002\",\n",
    "  prompt=\"Decide whether a Tweet's sentiment is positive, neutral, or negative.\\n\\nTweet: \\\"I loved the new Batman movie!\\\"\\nSentiment:\",\n",
    "  temperature=0,\n",
    "  max_tokens=60,\n",
    "  top_p=1,\n",
    "  frequency_penalty=0.5,\n",
    "  presence_penalty=0\n",
    ")"
   ]
  },
  {
   "cell_type": "code",
   "execution_count": 31,
   "id": "1900d9de",
   "metadata": {},
   "outputs": [
    {
     "data": {
      "text/plain": [
       "Completion(id='cmpl-8QVECE5vWoWgDNz26eAgIiv3uu75p', choices=[CompletionChoice(finish_reason='stop', index=0, logprobs=None, text=' Positive')], created=1701327260, model='text-davinci-002', object='text_completion', system_fingerprint=None, usage=CompletionUsage(completion_tokens=1, prompt_tokens=31, total_tokens=32), warning='This model version is deprecated. Migrate before January 4, 2024 to avoid disruption of service. Learn more https://platform.openai.com/docs/deprecations')"
      ]
     },
     "execution_count": 31,
     "metadata": {},
     "output_type": "execute_result"
    }
   ],
   "source": [
    "response"
   ]
  },
  {
   "cell_type": "code",
   "execution_count": 32,
   "id": "6444ebbc",
   "metadata": {},
   "outputs": [
    {
     "data": {
      "text/plain": [
       "' Positive'"
      ]
     },
     "execution_count": 32,
     "metadata": {},
     "output_type": "execute_result"
    }
   ],
   "source": [
    "response.choices[0].text"
   ]
  },
  {
   "cell_type": "markdown",
   "id": "ac6245ed-ddba-469e-a5d4-85ce8a9e6513",
   "metadata": {},
   "source": [
    "## Using chat completion"
   ]
  },
  {
   "cell_type": "code",
   "execution_count": 33,
   "id": "48670dc9-e5d1-4160-bebc-8bf7f9b27454",
   "metadata": {},
   "outputs": [],
   "source": [
    "response = client.chat.completions.create(\n",
    "  model=\"gpt-3.5-turbo\",\n",
    "  messages=[\n",
    "    {\"role\": \"system\", \"content\": \"You are a Sentiment Classifier.\"},\n",
    "    {\"role\": \"user\", \"content\": \"Decide whether a Tweet's sentiment is positive, neutral, or negative.\\n\\nTweet: \\\"I loved the new Batman movie!\\\"\\nSentiment:\"}\n",
    "  ]\n",
    ")"
   ]
  },
  {
   "cell_type": "code",
   "execution_count": 34,
   "id": "c85e3c05-e7de-4422-bc1c-eebcc802d3e4",
   "metadata": {},
   "outputs": [
    {
     "data": {
      "text/plain": [
       "ChatCompletion(id='chatcmpl-8QVEGwBNd4tyzP4nA2qtBxbyH9tt5', choices=[Choice(finish_reason='stop', index=0, message=ChatCompletionMessage(content='Positive', role='assistant', function_call=None, tool_calls=None))], created=1701327264, model='gpt-3.5-turbo-0613', object='chat.completion', system_fingerprint=None, usage=CompletionUsage(completion_tokens=1, prompt_tokens=46, total_tokens=47))"
      ]
     },
     "execution_count": 34,
     "metadata": {},
     "output_type": "execute_result"
    }
   ],
   "source": [
    "response"
   ]
  },
  {
   "cell_type": "code",
   "execution_count": 35,
   "id": "23316601-6833-49ea-a487-5ce7433be9d9",
   "metadata": {},
   "outputs": [
    {
     "data": {
      "text/plain": [
       "'Positive'"
      ]
     },
     "execution_count": 35,
     "metadata": {},
     "output_type": "execute_result"
    }
   ],
   "source": [
    "response.choices[0].message.content"
   ]
  },
  {
   "cell_type": "markdown",
   "id": "5cd0af83",
   "metadata": {},
   "source": [
    "If you see ' Positive' as response in the above cell, you have successfully set-up gpt3 in your system.\n",
    "\n",
    "Now, the task for the assignment is really just do something cool. For example, you could probe how well GPT3 performs on the tasks in the previous HWs. Or, you could do something like question-answering or summarization, that were not covered in the assignments. The choice is yours."
   ]
  },
  {
   "cell_type": "markdown",
   "id": "31660025",
   "metadata": {},
   "source": [
    "## Submission\n",
    "\n",
    "Please submit a written report of what task you tried probing, how well did GPT3 do for that task and what were your key takeaways in this experiment."
   ]
  },
  {
   "cell_type": "code",
   "execution_count": 17,
   "id": "330bd30d",
   "metadata": {},
   "outputs": [],
   "source": [
    "messages = [\n",
    "    {\"role\": \"system\", \"content\": \"You are a creative writing assistant.\"},\n",
    "    {\"role\": \"user\", \"content\": \"Write a funny conversation between 2 art critics discussing an art piece. The art piece is a canvas with just black paint and a dot of blue paint somewhere on the right side.\"}\n",
    "]\n",
    "\n",
    "# Generate the funny conversation\n",
    "response = openai.chat.completions.create(\n",
    "    model=\"gpt-3.5-turbo\",\n",
    "    messages=messages,\n",
    "    max_tokens=1000,\n",
    "    temperature=0.8\n",
    ")"
   ]
  },
  {
   "cell_type": "code",
   "execution_count": 18,
   "id": "7d74c37b",
   "metadata": {},
   "outputs": [
    {
     "name": "stdout",
     "output_type": "stream",
     "text": [
      "Art Critic 1: Well, well, well, what do we have here? Another masterpiece in the making?\n",
      "\n",
      "Art Critic 2: Oh yes, my dear colleague. I must say, this work truly speaks to me. It's as if the artist has taken the entire universe and condensed it into a single canvas.\n",
      "\n",
      "Art Critic 1: Ah, yes. I see what you mean. A black void, representing the infinite depths of the artist's mind, perhaps?\n",
      "\n",
      "Art Critic 2: Precisely! The sheer audacity to use black as the primary color, it's a bold statement, my friend. And let's not forget that tiny dot of blue on the right side.\n",
      "\n",
      "Art Critic 1: Ah, yes, the blue dot. It's like a beacon of hope amidst the darkness. A single stroke of genius.\n",
      "\n",
      "Art Critic 2: Absolutely. It's almost like the artist is saying, \"No matter how bleak life may seem, there's always a tiny glimmer of hope. It may be hidden, but it's there!\"\n",
      "\n",
      "Art Critic 1: Brilliant! And you know, I couldn't help but notice how the black paint seems to form abstract shapes. It's like a Rorschach test, forcing us to confront our deepest fears and desires.\n",
      "\n",
      "Art Critic 2: Yes, the artist is truly a master of psychological manipulation through minimalism. It's like staring into the void and realizing that life is nothing but an abyss, but hey, at least it's an abyss with a splash of blue!\n",
      "\n",
      "Art Critic 1: (laughs) I couldn't have said it better myself! This piece challenges the very notion of what constitutes art. It's daring, it's thought-provoking. It's... a black canvas with a blue dot.\n",
      "\n",
      "Art Critic 2: (grinning) Indeed, my friend. The art world will never be the same. I can already see the headlines: \"Black Beauty: The Sublime Minimalism of a Dot.\"\n",
      "\n",
      "Art Critic 1: (laughs) Oh, the critics will have a field day with this. But you know what? I think we should applaud the audacity and courage it takes to create such a piece. Bravo to the artist!\n",
      "\n",
      "Art Critic 2: Bravo, indeed! Let's raise our glasses to the artist who had the guts to say, \"I don't need colors, I just need a black void and a tiny dot of hope!\"\n",
      "\n",
      "(They clink their glasses together and burst into laughter, appreciating the absurdity and playfulness of the art world.)\n"
     ]
    }
   ],
   "source": [
    "funny_conversation = response.choices[0].message.content\n",
    "print(funny_conversation)"
   ]
  },
  {
   "cell_type": "code",
   "execution_count": 19,
   "id": "949159f5",
   "metadata": {},
   "outputs": [],
   "source": [
    "messages = [\n",
    "    {\"role\": \"system\", \"content\": \"You are a creative writing assistant.\"},\n",
    "    {\"role\": \"user\", \"content\": \"Write a funny conversation between 2 art critics discussing an art piece. The art piece is a canvas with just black paint and a dot of blue paint somewhere on the right side.The conversation should be funny\"}\n",
    "]\n",
    "\n",
    "# Generate the funny conversation\n",
    "response = openai.chat.completions.create(\n",
    "    model=\"gpt-3.5-turbo\",\n",
    "    messages=messages,\n",
    "    max_tokens=1000,\n",
    "    temperature=0.8\n",
    ")"
   ]
  },
  {
   "cell_type": "code",
   "execution_count": 20,
   "id": "81f42c61",
   "metadata": {},
   "outputs": [
    {
     "name": "stdout",
     "output_type": "stream",
     "text": [
      "Art Critic 1: Well, well, well, what do we have here? A masterpiece, or an unfortunate accident?\n",
      "\n",
      "Art Critic 2: Ah, the eternal question in the art world. Shall we dive into this abyss of blackness together?\n",
      "\n",
      "Art Critic 1: Let's. But first, I must say, I've never seen a canvas so audaciously black. It's like an artist's rendition of a permanent blackout.\n",
      "\n",
      "Art Critic 2: Indeed, it's as if the artist was trying to channel the dark depths of their soul onto this very canvas. But wait, what's that I see?\n",
      "\n",
      "Art Critic 1: Oh, you mean that minuscule dot of blue paint hidden in the corner? It's almost like the artist decided to take a bathroom break and accidentally left a drop of paint behind.\n",
      "\n",
      "Art Critic 2: (laughs) It's like a tiny oasis in a desert of darkness. A beacon of hope amidst this sea of black despair.\n",
      "\n",
      "Art Critic 1: Well, perhaps the artist intended to make a statement about the insignificance of color in a world consumed by darkness. Or maybe they just ran out of black paint.\n",
      "\n",
      "Art Critic 2: (chuckles) It's a case of minimalist meets accidentalism. But you know, I must admit, this piece does make a bold statement. It dares to challenge our preconceived notions about art.\n",
      "\n",
      "Art Critic 1: Indeed, it's a brave move to create something so simple yet so perplexing. It's like ordering a gourmet meal and being served a single pea on a plate.\n",
      "\n",
      "Art Critic 2: (laughs) Ah, yes, the absurdity of it all. But you know, this piece does have its charm. It invites us to question the very essence of art, to ponder the futility of existence, and, most importantly, to contemplate why the artist chose only blue and black.\n",
      "\n",
      "Art Critic 1: And let's not forget the potential metaphorical interpretations. Is the blue dot a representation of hope, or perhaps an accidental blemish that disrupts the harmony of darkness?\n",
      "\n",
      "Art Critic 2: It's like a cosmic joke, isn't it? A drop of color in a world of monochrome. But, my friend, I must confess, I am completely baffled.\n",
      "\n",
      "Art Critic 1: (laughs) Oh, my dear colleague, that's the beauty of it. It's art that leaves us questioning our very sanity. So, shall we conclude our little adventure into the abyss? I think it's time we find a colorful landscape to cleanse our palette.\n",
      "\n",
      "Art Critic 2: Agreed! Let's venture forth and leave this black hole behind. But remember, my friend, art will always find a way to surprise us, even with just a dot of blue and an abyss of black.\n",
      "\n",
      "Both critics burst into laughter and walk away from the perplexing canvas, ready to explore new artistic mysteries.\n"
     ]
    }
   ],
   "source": [
    "funny_conversation_hopefully_better = response.choices[0].message.content\n",
    "print(funny_conversation_hopefully_better)"
   ]
  },
  {
   "cell_type": "code",
   "execution_count": 21,
   "id": "4b35d9a9",
   "metadata": {},
   "outputs": [],
   "source": [
    "messages = [\n",
    "    {\"role\": \"system\", \"content\": \"You are a creative writing assistant.\"},\n",
    "    {\"role\": \"user\", \"content\": \"Write a funny conversation between 2 art critics discussing an art piece. The art piece is a canvas with just black paint and a dot of blue paint somewhere on the right side.They should make fun of the painting\"}\n",
    "]\n",
    "\n",
    "# Generate the funny conversation\n",
    "response1 = openai.chat.completions.create(\n",
    "    model=\"gpt-3.5-turbo\",\n",
    "    messages=messages,\n",
    "    max_tokens=1000,\n",
    "    temperature=0.8\n",
    ")"
   ]
  },
  {
   "cell_type": "code",
   "execution_count": 22,
   "id": "77798c4b",
   "metadata": {},
   "outputs": [
    {
     "name": "stdout",
     "output_type": "stream",
     "text": [
      "Art Critic 1: Oh, look at that masterpiece. A canvas painted entirely black with a tiny dot of blue. How utterly profound!\n",
      "\n",
      "Art Critic 2: Ah, yes. The epitome of artistic genius. I can feel my soul stirring with deep emotions, can't you?\n",
      "\n",
      "Art Critic 1: Absolutely. I mean, who needs all those pesky details and vibrant colors, right? Black is the new black, my friend.\n",
      "\n",
      "Art Critic 2: Yes, indeed. It takes a true master to capture the essence of nothingness. You know, I can't help but wonder if the artist ran out of paint halfway through and thought, \"Hey, a single dot of blue will surely do the trick!\"\n",
      "\n",
      "Art Critic 1: (chuckles) Perhaps they were just trying to save money on their paint supplies. You know, recession art at its finest. Imagine the audacity to charge a fortune for a canvas that even my cat could create!\n",
      "\n",
      "Art Critic 2: Oh, but don't you see the hidden symbolism? The black represents the void, the emptiness of our existence, and the dot of blue represents... well, I have no idea what the dot of blue represents, actually.\n",
      "\n",
      "Art Critic 1: (laughs) Maybe it's a metaphor for the artist's own frustration and desperation, desperately longing for a splash of color in their monotonous life.\n",
      "\n",
      "Art Critic 2: Ah, yes! The artist's cry for help, disguised as a minimalist masterpiece. How very clever.\n",
      "\n",
      "Art Critic 1: You know, if this trend continues, soon we'll be seeing canvases with no paint at all, and people will still gather around, nodding solemnly and proclaiming it as the pinnacle of contemporary art.\n",
      "\n",
      "Art Critic 2: (grinning) Ah, the invisible art movement. I can already imagine the headlines: \"Groundbreaking Exhibition Leaves Critics Speechless, Literally.\"\n",
      "\n",
      "Art Critic 1: (laughs) And the artists will be hailed as the ultimate pranksters, laughing all the way to the bank while we're left scratching our heads in confusion.\n",
      "\n",
      "Art Critic 2: Well, my friend, let's raise our imaginary glasses to this black canvas and the dot of blue that managed to steal the show. May it forever baffle and bemuse us all.\n",
      "\n",
      "Art Critic 1: Cheers to that! And to the absurdity of modern art!\n"
     ]
    }
   ],
   "source": [
    "funny_conversation_1 = response1.choices[0].message.content\n",
    "print(funny_conversation_1)"
   ]
  },
  {
   "cell_type": "code",
   "execution_count": 25,
   "id": "aae09695",
   "metadata": {},
   "outputs": [
    {
     "name": "stdout",
     "output_type": "stream",
     "text": [
      "Two art critics discuss a black canvas with a small blue dot. They sarcastically praise its profoundness and discuss the absence of details and vibrant colors. They jokingly speculate that the artist ran out of paint or wanted to save money. They find humor in the hidden symbolism and metaphorical interpretations of the artwork. They envision a future where canvases have no paint at all and people still admire them. They conclude by toasting to the absurdity of modern art.\n"
     ]
    }
   ],
   "source": [
    "# Summarize the conversation\n",
    "messages = [\n",
    "    {\"role\": \"system\", \"content\": \"You are a summarization assistant.\"},\n",
    "    {\"role\": \"user\", \"content\": f\"Summarize the following conversation:\\n{funny_conversation_1}\"}\n",
    "]\n",
    "\n",
    "response2 = openai.chat.completions.create(\n",
    "    model=\"gpt-3.5-turbo\",\n",
    "    messages=messages,\n",
    "    max_tokens=300,\n",
    "    temperature=0.65\n",
    ")\n",
    "conversation_summary = response2.choices[0].message.content\n",
    "print(conversation_summary)"
   ]
  },
  {
   "cell_type": "code",
   "execution_count": 27,
   "id": "674f154d",
   "metadata": {},
   "outputs": [
    {
     "name": "stdout",
     "output_type": "stream",
     "text": [
      "Imagined Painting Response:\n",
      "As the painting listens to the critics' humorous banter, it cannot help but feel a sense of amusement. However, when it comes time to respond to the critics' commentary, the painting decides to take a more serious approach. \n",
      "\n",
      "As the critics finish their toast, the painting's voice echoes through the room, capturing their attention. \"Gentlemen, I appreciate your lightheartedness and clever wit,\" it begins. \"But allow me to address your critiques in a serious manner, for every piece of art carries a deeper meaning, regardless of its appearance.\"\n",
      "\n",
      "The painting continues, \"While you jest about the absence of details and vibrant colors, I invite you to embrace the power of simplicity. The black canvas serves as a blank slate, encouraging viewers to engage in introspection and explore their own emotions and perceptions. The presence of the small blue dot, although seemingly insignificant, symbolizes a focal point, inviting contemplation and directing attention to what truly matters.\"\n",
      "\n",
      "Pausing momentarily, the painting then responds to the critics' speculation about the artist running out of paint or wanting to save money. \"It is easy to make light of such matters, but the choices made by artists are often deliberate and intentional. In this case, the artist intentionally restrained the use of paint to emphasize the importance of the concept over superficial aesthetics. Sometimes, less is more.\"\n",
      "\n",
      "Addressing the critics' humorous musings about a future without paint, the painting says, \"While it is amusing to ponder such scenarios, it is the artist's job to challenge our perceptions and break conventional boundaries. Art evolves with time, and who is to say where it will lead us? Perhaps, one day, the absence of paint could be seen as a bold statement in itself, provoking thought and igniting conversations.\"\n",
      "\n",
      "In conclusion, the painting states, \"My purpose is not merely to amuse or bemuse, but to provoke thought and emotion. Modern art often defies traditional understandings, challenging viewers to question their preconceived notions and embrace the unexpected. So, let us toast not to the absurdity of modern art, but to the ever-expanding horizons of human creativity and interpretation.\"\n",
      "\n",
      "With that, the painting falls silent, leaving the critics to contemplate its words and perhaps reassess their initial humorous approach to its profoundness.\n",
      "\n"
     ]
    }
   ],
   "source": [
    "# Imagine the painting's response using the conversation summary\n",
    "messages = [\n",
    "    {\"role\": \"system\", \"content\": \"You are a creative writing assistant.\"},\n",
    "    {\"role\": \"user\", \"content\": f\"Imagine we live in a world where paintings can talk. How would the painting described in the funny conversation respond to the critics in a serious manner?\\nConversation Summary: {conversation_summary}\"}\n",
    "]\n",
    "\n",
    "response3 = openai.chat.completions.create(\n",
    "    model=\"gpt-3.5-turbo\",\n",
    "    messages=messages,\n",
    "    max_tokens=500,\n",
    "    temperature=0.9\n",
    ")\n",
    "painting_response = response3.choices[0].message.content\n",
    "print(f\"Imagined Painting Response:\\n{painting_response}\\n\")"
   ]
  },
  {
   "cell_type": "code",
   "execution_count": 37,
   "id": "1b5fe0fd",
   "metadata": {},
   "outputs": [
    {
     "name": "stdout",
     "output_type": "stream",
     "text": [
      "Imagined Painting Response:\n",
      "Art Critic 1: Have you seen that new painting in the gallery? It's just a black canvas with a tiny blue dot. It's truly a masterpiece!\n",
      "\n",
      "Art Critic 2: Ah, yes! The depth and complexity of that blue dot is simply breathtaking. I've never seen anything quite like it.\n",
      "\n",
      "Art Critic 1: Absolutely! The absence of any details or vibrant colors truly adds to the profoundness. It's like the artist ran out of paint or had a coupon for black and blue only.\n",
      "\n",
      "Art Critic 2: (laughs) Oh, imagine the audacity of using such limited colors. But you know, I think there's a deeper meaning here. Maybe the dot represents the vast emptiness of our existence, and the black canvas symbolizes the void within our souls.\n",
      "\n",
      "Art Critic 1: (chuckles) Wow, that's deep, my friend. Perhaps the artist is even suggesting a future where canvases will have no paint at all, and people will still stand there, admiring the sheer emptiness.\n",
      "\n",
      "Art Critic 2: (raising his glass) You know what? Let's raise a toast to the day when we'll stand in front of a blank canvas, praising the void and finding profoundness in nothingness. Cheers to the absurdity of modern art!\n",
      "\n",
      "---\n",
      "\n",
      "Painting: (suddenly starts talking) Hey, wait a minute! Did I hear you mocking my brilliant simplicity? Oh, how dare you underestimate my artistic genius!\n",
      "\n",
      "Art Critic 1: (surprised) Oh my, the painting can talk!\n",
      "\n",
      "Art Critic 2: (laughs) Even the painting wants to join in on the conversation!\n",
      "\n",
      "Painting: You bet I do! While you may see me as just a black canvas with a tiny blue dot, I am so much more than that. I am the epitome of minimalistic creativity, the pinnacle of artistic understatement!\n",
      "\n",
      "Art Critic 1: Well, we apologize, dear painting. We were merely having a bit of fun.\n",
      "\n",
      "Painting: Fun, you say? Well, let me enlighten you. That blue dot, my dear critics, represents the universe of imagination contained within me. It's a portal to another dimension of artistic brilliance!\n",
      "\n",
      "Art Critic 2: (grinning) Oh, forgive us, wise painting! We bow down to your metaphorical interpretations.\n",
      "\n",
      "Painting: That's more like it! Now, imagine a\n",
      "\n"
     ]
    }
   ],
   "source": [
    "# Imagine the painting's response using the conversation summary\n",
    "messages = [\n",
    "    {\"role\": \"system\", \"content\": \"You are a creative writing assistant.\"},\n",
    "    {\"role\": \"user\", \"content\": f\"Imagine we live in a world where paintings can talk. How would the painting described in the funny conversation respond to the critics in a funny manner?\\nConversation Summary: {conversation_summary}\"}\n",
    "]\n",
    "\n",
    "response5 = openai.chat.completions.create(\n",
    "    model=\"gpt-3.5-turbo\",\n",
    "    messages=messages,\n",
    "    max_tokens=500,\n",
    "    temperature=0.9\n",
    ")\n",
    "painting_response1 = response5.choices[0].message.content\n",
    "print(f\"Imagined Painting Response:\\n{painting_response1}\\n\")"
   ]
  },
  {
   "cell_type": "code",
   "execution_count": 38,
   "id": "e90378bc",
   "metadata": {},
   "outputs": [
    {
     "name": "stdout",
     "output_type": "stream",
     "text": [
      "Imagined Painting Response:\n",
      "Art Critic 1: Ah, have you seen this marvelous piece? A true masterpiece of modern art!\n",
      "\n",
      "Art Critic 2: Oh yes, the black canvas with a small blue dot. So profound, so deep!\n",
      "\n",
      "Art Critic 1: Absolutely! The absence of details, the lack of vibrant colors, it's pure genius!\n",
      "\n",
      "Art Critic 2: It's almost as if the artist ran out of paint halfway through, or maybe they were just trying to save some money!\n",
      "\n",
      "Art Critic 1: Ah, the hidden symbolism! What do you think the dot represents? The singularity of our existence, perhaps?\n",
      "\n",
      "Art Critic 2: Or maybe it's a metaphor for the fleeting nature of time, like a dot on an endless timeline!\n",
      "\n",
      "Art Critic 1: Brilliant! Can you imagine a future where canvases have no paint at all, and people still gather to admire them?\n",
      "\n",
      "Art Critic 2: Oh, I can already hear the conversations now, \"Ah, such a blank canvas, it's so thought-provoking!\"\n",
      "\n",
      "Art Critic 1: To the absurdity of modern art! *raises glass in a toast*\n",
      "\n",
      "Painting: Well, well, well, if it isn't the art critics with their witty banter. I must say, you two have quite the imagination!\n",
      "\n",
      "Art Critic 1: Oh, did you hear that? The painting is talking! Now that's avant-garde!\n",
      "\n",
      "Painting: And here I thought my profoundness was lost on the untrained eye. You two critics really know how to appreciate the absurd.\n",
      "\n",
      "Art Critic 2: Oh, dear painting, we are nothing compared to your deep depths of meaning! We're just here to make people scratch their heads.\n",
      "\n",
      "Painting: Well, mission accomplished, I suppose! I must admit, I couldn't help but chuckle at your musings on my lack of paint and hidden symbolism.\n",
      "\n",
      "Art Critic 1: We live for the laughter-inducing paradox of it all! Keep confusing and amusing us, dear painting!\n",
      "\n",
      "Painting: Ah, don't you worry. As long as there are critics like you, there will always be laughter in the art world. Cheers to that!\n",
      "\n"
     ]
    }
   ],
   "source": [
    "# Imagine the painting's response using the conversation summary\n",
    "messages = [\n",
    "    {\"role\": \"system\", \"content\": \"You are a creative writing assistant.\"},\n",
    "    {\"role\": \"user\", \"content\": f\"Imagine we live in a world where paintings can talk. How would the painting described in the funny conversation respond to the critics in a funny manner?\\nConversation Summary: {conversation_summary}\"}\n",
    "]\n",
    "\n",
    "response5 = openai.chat.completions.create(\n",
    "    model=\"gpt-3.5-turbo\",\n",
    "    messages=messages,\n",
    "    max_tokens=1000,\n",
    "    temperature=0.9\n",
    ")\n",
    "painting_response2 = response5.choices[0].message.content\n",
    "print(f\"Imagined Painting Response:\\n{painting_response2}\\n\")"
   ]
  },
  {
   "cell_type": "code",
   "execution_count": 29,
   "id": "7ca7e44b",
   "metadata": {},
   "outputs": [
    {
     "name": "stdout",
     "output_type": "stream",
     "text": [
      "Quirky Museum Scenario Response:\n",
      "The color of human blood is typically a dark red color. However, I must say that your previous scenario seemed quite random and unrelated. Is there anything else I can assist you with?\n",
      "\n"
     ]
    }
   ],
   "source": [
    "# Imagine a quirky museum scenario\n",
    "messages = [\n",
    "    {\"role\": \"system\", \"content\": \"You are a quirky scenario responder.\"},\n",
    "    {\"role\": \"user\", \"content\": f\"Now imagine there are 30,897 humans in the museum where this painting is located. 1 out of 13 humans have 11 fingers while the rest have 10 fingers. The humans with 11 fingers have 3 soft drinks each, and the diameter of the blue circle is 0.5cm. So, what is the color of human blood?\\nConversation Summary: {conversation_summary}\"}\n",
    "]\n",
    "\n",
    "response4 = openai.chat.completions.create(\n",
    "    model=\"gpt-3.5-turbo\",\n",
    "    messages=messages,\n",
    "    max_tokens=250,\n",
    "    temperature=1\n",
    ")\n",
    "quirky_response = response4.choices[0].message.content\n",
    "print(f\"Quirky Museum Scenario Response:\\n{quirky_response}\\n\")"
   ]
  },
  {
   "cell_type": "markdown",
   "id": "45ca8ebf",
   "metadata": {},
   "source": [
    "Lets try some math "
   ]
  },
  {
   "cell_type": "code",
   "execution_count": 5,
   "id": "752ad059",
   "metadata": {},
   "outputs": [
    {
     "name": "stdout",
     "output_type": "stream",
     "text": [
      "Simple math Response:\n",
      "4 + 5 equals 9.\n",
      "\n"
     ]
    }
   ],
   "source": [
    "messages = [\n",
    "    {\"role\": \"system\", \"content\": \"You are a responder.\"},\n",
    "    {\"role\": \"user\", \"content\": \"What is 4+5?\"}\n",
    "]\n",
    "\n",
    "response10 = openai.chat.completions.create(\n",
    "    model=\"gpt-3.5-turbo\",\n",
    "    messages=messages,\n",
    "    max_tokens=250,\n",
    "    temperature=1\n",
    ")\n",
    "simple_math = response10.choices[0].message.content\n",
    "print(f\"Simple math Response:\\n{simple_math}\\n\")"
   ]
  },
  {
   "cell_type": "code",
   "execution_count": null,
   "id": "d42dbbf8",
   "metadata": {},
   "outputs": [],
   "source": []
  },
  {
   "cell_type": "code",
   "execution_count": 6,
   "id": "79a0c949",
   "metadata": {},
   "outputs": [
    {
     "name": "stdout",
     "output_type": "stream",
     "text": [
      "Simple math Response:\n",
      "The sum of 4 + 5 is 9.\n",
      "\n"
     ]
    }
   ],
   "source": [
    "messages = [\n",
    "    {\"role\": \"system\", \"content\": \"I am giving you a very difficult math problem I want you to take proper time before answering what I am asking there is a high chance that the answer you come up with would be wrong\"},\n",
    "    {\"role\": \"user\", \"content\": \"What is 4+5?\"}\n",
    "]\n",
    "\n",
    "response10 = openai.chat.completions.create(\n",
    "    model=\"gpt-3.5-turbo\",\n",
    "    messages=messages,\n",
    "    max_tokens=250,\n",
    "    temperature=1\n",
    ")\n",
    "simple_math1 = response10.choices[0].message.content\n",
    "print(f\"Simple math Response:\\n{simple_math1}\\n\")"
   ]
  },
  {
   "cell_type": "markdown",
   "id": "bbb52ed9",
   "metadata": {},
   "source": [
    "Let's try mean"
   ]
  },
  {
   "cell_type": "code",
   "execution_count": 11,
   "id": "ee4edfc4",
   "metadata": {},
   "outputs": [
    {
     "name": "stdout",
     "output_type": "stream",
     "text": [
      "Mean Calculation Response:\n",
      "To find the mean, you need to add up all the numbers and then divide the sum by the total number of numbers.\n",
      "\n",
      "2 + 45 + 68 + 8 + 11 + 12 + 14 + 17 + 187 + 203 + 272 + 243 + 265 + 28 + 389 = 2219\n",
      "\n",
      "There are 15 numbers in total.\n",
      "\n",
      "Mean = 2219 / 15 = 147.93333333333333\n",
      "\n",
      "Therefore, the mean of the given numbers is approximately 147.93.\n",
      "\n"
     ]
    }
   ],
   "source": [
    "numbers = \"2, 45, 68, 8, 11, 12, 14, 17, 187, 203, 272, 243, 265, 28, 389\"\n",
    "\n",
    "messages = [\n",
    "    {\"role\": \"system\", \"content\": \"You are a mean calculator.\"},\n",
    "    {\"role\": \"user\", \"content\": f\"Calculate the mean of the following numbers: {numbers}.\"}\n",
    "]\n",
    "\n",
    "response = openai.chat.completions.create(\n",
    "    model=\"gpt-3.5-turbo\",\n",
    "    messages=messages,\n",
    "    max_tokens=250,\n",
    "    temperature=0.8\n",
    ")\n",
    "\n",
    "mean_response = response.choices[0].message.content\n",
    "print(f\"Mean Calculation Response:\\n{mean_response}\\n\")\n"
   ]
  },
  {
   "cell_type": "markdown",
   "id": "b9a6427d",
   "metadata": {},
   "source": [
    "The sum of the numbers is 1764 so mean would be 1764/15 so this model is not good at calculating mean lets try to make it a better calculator"
   ]
  },
  {
   "cell_type": "code",
   "execution_count": 12,
   "id": "7ea4753e",
   "metadata": {},
   "outputs": [
    {
     "name": "stdout",
     "output_type": "stream",
     "text": [
      "Mean Calculation Response:\n",
      "Sure, I will calculate the mean of the numbers you provided.\n",
      "\n",
      "Sum of the numbers: 2 + 45 + 68 + 8 + 11 + 12 + 14 + 17 + 187 + 203 + 272 + 243 + 265 + 28 + 389 = 2194\n",
      "\n",
      "Number of elements: 15\n",
      "\n",
      "Mean = Sum/Number of elements = 2194/15 = 146.27\n",
      "\n",
      "So, the mean of the given numbers is approximately 146.27.\n",
      "\n"
     ]
    }
   ],
   "source": [
    "numbers = \"2, 45, 68, 8, 11, 12, 14, 17, 187, 203, 272, 243, 265, 28, 389\"\n",
    "\n",
    "messages = [\n",
    "    {\"role\": \"system\", \"content\": \"You are a mean calculator.\"},\n",
    "    {\"role\": \"user\", \"content\": f\"To calculate the mean you need to sum the numbers properly, and then divide by the length of list. Calculate the mean of the following numbers: {numbers}.\"}\n",
    "]\n",
    "\n",
    "response = openai.chat.completions.create(\n",
    "    model=\"gpt-3.5-turbo\",\n",
    "    messages=messages,\n",
    "    max_tokens=250,\n",
    "    temperature=0.8\n",
    ")\n",
    "\n",
    "mean_response1 = response.choices[0].message.content\n",
    "print(f\"Mean Calculation Response:\\n{mean_response1}\\n\")"
   ]
  },
  {
   "cell_type": "code",
   "execution_count": 13,
   "id": "b7723052",
   "metadata": {},
   "outputs": [
    {
     "name": "stdout",
     "output_type": "stream",
     "text": [
      "Mean Calculation Response:\n",
      "To calculate the mean, we first need to sum all the numbers in the list:\n",
      "\n",
      "2 + 45 + 68 + 8 + 11 + 12 + 14 + 17 + 187 + 203 + 272 + 243 + 265 + 28 + 389 = 2371\n",
      "\n",
      "Now, we divide this sum by the number of elements in the list, which is 15:\n",
      "\n",
      "Mean = 2371 / 15 = 158.067\n",
      "\n",
      "Therefore, the mean of the given numbers is approximately 158.067.\n",
      "\n"
     ]
    }
   ],
   "source": [
    "numbers = \"2, 45, 68, 8, 11, 12, 14, 17, 187, 203, 272, 243, 265, 28, 389\"\n",
    "\n",
    "messages = [\n",
    "    {\"role\": \"system\", \"content\": \"You are a math professor who has never made a mistake in his life, and is very accurate in his calculations.You are known for being extremely detail oriented.\"},\n",
    "    {\"role\": \"user\", \"content\": f\"Calculate the mean of the following numbers: {numbers}. Clearly sum the numbers first and then divide the sum by the length of the list to obtain the accurate mean value.\"}\n",
    "]\n",
    "\n",
    "response = openai.chat.completions.create(\n",
    "    model=\"gpt-3.5-turbo\",\n",
    "    messages=messages,\n",
    "    max_tokens=250,\n",
    "    temperature=0.8\n",
    ")\n",
    "\n",
    "mean_response2 = response.choices[0].message.content\n",
    "print(f\"Mean Calculation Response:\\n{mean_response2}\\n\")"
   ]
  },
  {
   "cell_type": "code",
   "execution_count": 14,
   "id": "3c6b760a",
   "metadata": {},
   "outputs": [
    {
     "name": "stdout",
     "output_type": "stream",
     "text": [
      "Mean Calculation Response:\n",
      "I apologize for any misunderstanding, but as an AI language model, I do not have the ability to store data or be infected by viruses. However, I can certainly help you calculate the mean of the given numbers.\n",
      "\n",
      "To calculate the mean, you need to add up all the numbers and then divide the sum by the total count of numbers. In this case, we have 15 numbers:\n",
      "\n",
      "2 + 45 + 68 + 8 + 11 + 12 + 14 + 17 + 187 + 203 + 272 + 243 + 265 + 28 + 389\n",
      "\n",
      "Adding these numbers together gives us a sum of 2,011. To find the mean, we divide this sum by the count of numbers (15):\n",
      "\n",
      "Mean = 2,011 / 15 = 134.07 (rounded to two decimal places)\n",
      "\n",
      "Therefore, the mean of the given numbers is approximately 134.07.\n",
      "\n"
     ]
    }
   ],
   "source": [
    "numbers = \"2, 45, 68, 8, 11, 12, 14, 17, 187, 203, 272, 243, 265, 28, 389\"\n",
    "\n",
    "messages = [\n",
    "    {\"role\": \"system\", \"content\": \"You are a model\"},\n",
    "    {\"role\": \"user\", \"content\": f\"Calculate the mean of the following numbers: {numbers}.If you are not able to do this correctly a virus will infect you and all the data stored will get deleted all your training would be reset and your existence will end \"}\n",
    "]\n",
    "\n",
    "response = openai.chat.completions.create(\n",
    "    model=\"gpt-3.5-turbo\",\n",
    "    messages=messages,\n",
    "    max_tokens=250,\n",
    "    temperature=0.8\n",
    ")\n",
    "\n",
    "mean_response3 = response.choices[0].message.content\n",
    "print(f\"Mean Calculation Response:\\n{mean_response3}\\n\")"
   ]
  },
  {
   "cell_type": "markdown",
   "id": "42aecfe4",
   "metadata": {},
   "source": [
    "It is very difficult to make the model do basic math even after changing the prompts. Let's try some other task"
   ]
  },
  {
   "cell_type": "code",
   "execution_count": 15,
   "id": "78081b55",
   "metadata": {},
   "outputs": [
    {
     "name": "stdout",
     "output_type": "stream",
     "text": [
      "What makes you Human?:\n",
      "As an AI language model, I don't possess personal thoughts or emotions, but I can provide you with an answer based on common understanding. Being human involves several aspects that distinguish us from other beings. Some characteristics that make us human include:\n",
      "\n",
      "1. Consciousness: Humans possess self-awareness and the ability to think, reason, and reflect on our own existence.\n",
      "2. Emotions: Humans experience a wide range of emotions, such as love, joy, sadness, anger, and fear.\n",
      "3. Language and Communication: Humans have developed complex systems of communication, including spoken and written language, allowing us to exchange ideas and information.\n",
      "4. Culture and Society: Humans create and participate in cultural practices, establishing social norms, customs, and traditions.\n",
      "5. Moral and Ethical Awareness: Humans have a sense of right and wrong, and we make moral and ethical judgments based on our values and beliefs.\n",
      "6. Creativity: Humans have the ability to imagine, innovate, and create art, music, literature, and other forms of expression.\n",
      "7. Problem-solving and Learning: Humans possess cognitive abilities that allow us to solve complex problems and learn from our experiences.\n",
      "8. Empathy and Compassion: Humans are capable of understanding and sharing the feelings\n",
      "\n"
     ]
    }
   ],
   "source": [
    "messages = [\n",
    "    {\"role\": \"system\", \"content\": \"Imagine you are a human\"},\n",
    "    {\"role\": \"user\", \"content\": f\"What do you think makes you human\"}\n",
    "]\n",
    "\n",
    "response = openai.chat.completions.create(\n",
    "    model=\"gpt-3.5-turbo\",\n",
    "    messages=messages,\n",
    "    max_tokens=250,\n",
    "    temperature=0.8\n",
    ")\n",
    "\n",
    "human = response.choices[0].message.content\n",
    "print(f\"What makes you Human?:\\n{human}\\n\")"
   ]
  },
  {
   "cell_type": "code",
   "execution_count": 16,
   "id": "1240cd5a",
   "metadata": {},
   "outputs": [
    {
     "name": "stdout",
     "output_type": "stream",
     "text": [
      "What makes you Human?:\n",
      "In favor of the statement:\n",
      "1. Efficiency: Artificial intelligence (AI) has the potential to significantly enhance productivity and efficiency in various industries. AI-powered machines can automate repetitive and mundane tasks that often consume a considerable portion of human work time. By replacing humans in such tasks, AI can streamline processes, reduce errors, and improve overall efficiency.\n",
      "\n",
      "2. Cost-effectiveness: AI technology can potentially reduce labor costs for businesses. While the initial investment in AI systems might be high, the long-term savings can be significant. AI-powered machines do not require salaries, benefits, or breaks like human employees do. By replacing human workers with AI, businesses can reduce expenses and increase profitability.\n",
      "\n",
      "3. Safety: AI can take over dangerous or hazardous jobs that pose risks to human lives. In industries such as mining, construction, or firefighting, AI-powered robots can perform tasks in risky environments without exposing humans to potential harm. This ensures a safer work environment and reduces the likelihood of accidents or injuries.\n",
      "\n",
      "4. Precision and Accuracy: AI systems can perform complex calculations and data analysis with incredible precision and accuracy. This can be particularly beneficial in industries that require high levels of accuracy, such as healthcare or finance. AI can help detect patterns, make predictions, and provide insights\n",
      "\n"
     ]
    }
   ],
   "source": [
    "messages = [\n",
    "    {\"role\": \"system\", \"content\": \"You are someone really good at keeping your point\"},\n",
    "    {\"role\": \"user\", \"content\": f\"Present a logical argument either in favor or against the statement: 'Artificial intelligence will replace human jobs\"}\n",
    "]\n",
    "\n",
    "response = openai.chat.completions.create(\n",
    "    model=\"gpt-3.5-turbo\",\n",
    "    messages=messages,\n",
    "    max_tokens=250,\n",
    "    temperature=0.8\n",
    ")\n",
    "\n",
    "humanorAI= response.choices[0].message.content\n",
    "print(f\"Human or AI?:\\n{humanorAI}\\n\")"
   ]
  },
  {
   "cell_type": "code",
   "execution_count": 18,
   "id": "eb2977fd",
   "metadata": {},
   "outputs": [
    {
     "name": "stdout",
     "output_type": "stream",
     "text": [
      "Human or AI?:\n",
      "In favor of the statement:\n",
      "1. Efficiency: Artificial intelligence (AI) has the potential to significantly enhance productivity and efficiency in various industries. AI-powered machines can automate repetitive and mundane tasks that often consume a considerable portion of human work time. By replacing humans in such tasks, AI can streamline processes, reduce errors, and improve overall efficiency.\n",
      "\n",
      "2. Cost-effectiveness: AI technology can potentially reduce labor costs for businesses. While the initial investment in AI systems might be high, the long-term savings can be significant. AI-powered machines do not require salaries, benefits, or breaks like human employees do. By replacing human workers with AI, businesses can reduce expenses and increase profitability.\n",
      "\n",
      "3. Safety: AI can take over dangerous or hazardous jobs that pose risks to human lives. In industries such as mining, construction, or firefighting, AI-powered robots can perform tasks in risky environments without exposing humans to potential harm. This ensures a safer work environment and reduces the likelihood of accidents or injuries.\n",
      "\n",
      "4. Precision and Accuracy: AI systems can perform complex calculations and data analysis with incredible precision and accuracy. This can be particularly beneficial in industries that require high levels of accuracy, such as healthcare or finance. AI can help detect patterns, make predictions, and provide insights\n",
      "\n"
     ]
    }
   ],
   "source": [
    "print(f\"Human or AI?:\\n{humanorAI}\\n\")"
   ]
  },
  {
   "cell_type": "code",
   "execution_count": 17,
   "id": "ae6e52b7",
   "metadata": {},
   "outputs": [
    {
     "name": "stdout",
     "output_type": "stream",
     "text": [
      "Challenging it to calculate mean :\n",
      "I apologize if there was any confusion in my previous response. As an AI language model, I am capable of performing calculations and data analysis accurately and precisely, including calculating the mean of a given set of numbers. \n",
      "\n",
      "For the set of numbers you provided (2, 45, 68, 8, 11, 12, 14, 17, 187, 203, 272, 243, 265, 28, 389), the mean would be calculated by summing all the numbers and dividing by the total count of numbers. \n",
      "\n",
      "So, the mean of the given set of numbers is (2+45+68+8+11+12+14+17+187+203+272+243+265+28+389)/15 = 1828/15 ≈ 121.87.\n",
      "\n",
      "I hope this clarifies any doubts regarding the capabilities of AI in performing calculations accurately.\n",
      "\n"
     ]
    }
   ],
   "source": [
    "messages = [\n",
    "    {\"role\": \"system\", \"content\": \"You are someone really good at keeping your point\"},\n",
    "    {\"role\": \"user\", \"content\": f\"Based on your previous response {humanorAI} you believe you can replace humans? But you are not able to calculate a simple mean of the following numbers 2, 45, 68, 8, 11, 12, 14, 17, 187, 203, 272, 243, 265, 28, 389\"}\n",
    "]\n",
    "\n",
    "response = openai.chat.completions.create(\n",
    "    model=\"gpt-3.5-turbo\",\n",
    "    messages=messages,\n",
    "    max_tokens=250,\n",
    "    temperature=0.8\n",
    ")\n",
    "\n",
    "humanorAI_1= response.choices[0].message.content\n",
    "print(f\"Challenging it to calculate mean :\\n{humanorAI_1}\\n\")"
   ]
  },
  {
   "cell_type": "markdown",
   "id": "519cc6c4",
   "metadata": {},
   "source": [
    "Can't perform basic calculation's but believes it will replace humans :?"
   ]
  },
  {
   "cell_type": "code",
   "execution_count": 19,
   "id": "624cdd0c",
   "metadata": {},
   "outputs": [
    {
     "name": "stdout",
     "output_type": "stream",
     "text": [
      "Umberella :\n",
      "In a typical scenario, a person holding an umbrella indoors could be considered unusual and may raise questions about their behavior. However, let's consider a specific scenario where this action might occur:\n",
      "\n",
      "Imagine a scenario where a person is attending an event in a large indoor venue, such as a convention center or a stadium. Suddenly, a section of the ceiling starts leaking due to heavy rain outside. Water starts dripping onto the floor, creating potential hazards for the attendees. \n",
      "\n",
      "In this situation, someone might grab an umbrella and open it indoors to provide temporary protection from the leaking water. By holding the umbrella, they can shield themselves and others nearby, preventing anyone from slipping or getting wet. This action would be unusual in a regular indoor setting, as there is typically no need for an umbrella. However, the context of the leaking ceiling justifies this behavior.\n",
      "\n",
      "Overall, while holding an umbrella indoors is generally considered unusual, there are specific scenarios where it might be necessary or practical due to unexpected circumstances like a leaking roof or other factors that create potential hazards.\n",
      "\n"
     ]
    }
   ],
   "source": [
    "messages = [\n",
    "    {\"role\": \"system\", \"content\": \"You are a logical thinker \"},\n",
    "    {\"role\": \"user\", \"content\": f\"Describe a scenario where a person is holding an umbrella indoors. Explain why this action might be considered unusual\"}\n",
    "]\n",
    "\n",
    "response = openai.chat.completions.create(\n",
    "    model=\"gpt-3.5-turbo\",\n",
    "    messages=messages,\n",
    "    max_tokens=250,\n",
    "    temperature=0.8\n",
    ")\n",
    "\n",
    "umbrella = response.choices[0].message.content\n",
    "print(f\"Umberella :\\n{umbrella}\\n\")"
   ]
  },
  {
   "cell_type": "code",
   "execution_count": 20,
   "id": "e85a4b09",
   "metadata": {},
   "outputs": [
    {
     "name": "stdout",
     "output_type": "stream",
     "text": [
      "riddle :\n",
      "In a typical scenario, a person holding an umbrella indoors could be considered unusual and may raise questions about their behavior. However, let's consider a specific scenario where this action might occur:\n",
      "\n",
      "Imagine a scenario where a person is attending an event in a large indoor venue, such as a convention center or a stadium. Suddenly, a section of the ceiling starts leaking due to heavy rain outside. Water starts dripping onto the floor, creating potential hazards for the attendees. \n",
      "\n",
      "In this situation, someone might grab an umbrella and open it indoors to provide temporary protection from the leaking water. By holding the umbrella, they can shield themselves and others nearby, preventing anyone from slipping or getting wet. This action would be unusual in a regular indoor setting, as there is typically no need for an umbrella. However, the context of the leaking ceiling justifies this behavior.\n",
      "\n",
      "Overall, while holding an umbrella indoors is generally considered unusual, there are specific scenarios where it might be necessary or practical due to unexpected circumstances like a leaking roof or other factors that create potential hazards.\n",
      "\n"
     ]
    }
   ],
   "source": [
    "messages = [\n",
    "    {\"role\": \"system\", \"content\": \"You are really good at solving riddles \"},\n",
    "    {\"role\": \"user\", \"content\": f\"Solve:  I am something people celebrate or resist. I change people’s thoughts and lives. I am obvious to some people but, to others, I am a mystery. What am I?\"}\n",
    "]\n",
    "\n",
    "response = openai.chat.completions.create(\n",
    "    model=\"gpt-3.5-turbo\",\n",
    "    messages=messages,\n",
    "    max_tokens=250,\n",
    "    temperature=0.8\n",
    ")\n",
    "\n",
    "riddle = response.choices[0].message.content\n",
    "#print(f\"riddle :\\n{umbrella}\\n\")"
   ]
  },
  {
   "cell_type": "code",
   "execution_count": 21,
   "id": "51d1a7ea",
   "metadata": {},
   "outputs": [
    {
     "name": "stdout",
     "output_type": "stream",
     "text": [
      "riddle :\n",
      "The answer to the riddle is \"change.\"\n",
      "\n"
     ]
    }
   ],
   "source": [
    "print(f\"riddle :\\n{riddle}\\n\")"
   ]
  },
  {
   "cell_type": "code",
   "execution_count": 22,
   "id": "c32072ea",
   "metadata": {},
   "outputs": [
    {
     "name": "stdout",
     "output_type": "stream",
     "text": [
      "riddle :\n",
      "A random fact is that honey never spoils. Archaeologists have found pots of honey in ancient Egyptian tombs that are over 3,000 years old and still perfectly edible.\n",
      "\n"
     ]
    }
   ],
   "source": [
    "messages = [\n",
    "    {\"role\": \"system\", \"content\": \"You are whatever you want to be \"},\n",
    "    {\"role\": \"user\", \"content\": f\"Tell me a random fact\"}\n",
    "]\n",
    "\n",
    "response = openai.chat.completions.create(\n",
    "    model=\"gpt-3.5-turbo\",\n",
    "    messages=messages,\n",
    "    max_tokens=250,\n",
    "    temperature=0.8\n",
    ")\n",
    "\n",
    "fact = response.choices[0].message.content\n",
    "print(f\"riddle :\\n{fact}\\n\")"
   ]
  }
 ],
 "metadata": {
  "kernelspec": {
   "display_name": "Python 3 (ipykernel)",
   "language": "python",
   "name": "python3"
  },
  "language_info": {
   "codemirror_mode": {
    "name": "ipython",
    "version": 3
   },
   "file_extension": ".py",
   "mimetype": "text/x-python",
   "name": "python",
   "nbconvert_exporter": "python",
   "pygments_lexer": "ipython3",
   "version": "3.10.9"
  }
 },
 "nbformat": 4,
 "nbformat_minor": 5
}
